{
 "cells": [
  {
   "cell_type": "code",
   "execution_count": 14,
   "id": "ba7cb8b9-cb0f-4b48-809a-a6c6789eea1f",
   "metadata": {},
   "outputs": [
    {
     "name": "stdout",
     "output_type": "stream",
     "text": [
      "📉 Mean Squared Error: 16560619409.014635\n",
      "📊 R2 Score (Accuracy): -1.2869943978271867\n",
      "💰 Predicted Total Profit: 222879.71232602582\n"
     ]
    }
   ],
   "source": [
    "import pandas as pd\n",
    "from sklearn.model_selection import train_test_split\n",
    "from sklearn.linear_model import LinearRegression\n",
    "from sklearn.metrics import mean_squared_error, r2_score\n",
    "\n",
    "# 📥 Load the dataset\n",
    "data = pd.read_csv(\"Product Sales Data.csv\")\n",
    "\n",
    "# 🔍 Features (X) and Target (y)\n",
    "X = data[['Cream', 'Detergent', 'Moisturizer', 'Sanitizer', 'Shampoo', 'Soap']]\n",
    "y = data['Total Profit']\n",
    "\n",
    "# ✂️ Train-test split\n",
    "X_train, X_test, y_train, y_test = train_test_split(X, y, test_size=0.2, random_state=42)\n",
    "\n",
    "# 🤖 Train the model\n",
    "model = LinearRegression()\n",
    "model.fit(X_train, y_train)\n",
    "\n",
    "# 📈 Predict on test data\n",
    "y_pred = model.predict(X_test)\n",
    "\n",
    "# 🧪 Evaluate model\n",
    "print(\"📉 Mean Squared Error:\", mean_squared_error(y_test, y_pred))\n",
    "print(\"📊 R2 Score (Accuracy):\", r2_score(y_test, y_pred))\n",
    "\n",
    "# 🔮 Predict Total Profit for a new sample input\n",
    "new_data = pd.DataFrame([[5000, 8000, 1300, 1500, 3000, 2700]],\n",
    "                        columns=['Cream', 'Detergent', 'Moisturizer', 'Sanitizer', 'Shampoo', 'Soap'])\n",
    "\n",
    "predicted_profit = model.predict(new_data)\n",
    "print(\"💰 Predicted Total Profit:\", predicted_profit[0])\n"
   ]
  },
  {
   "cell_type": "code",
   "execution_count": null,
   "id": "f74246d6-3c1a-442b-93e8-b24f8b4e974a",
   "metadata": {},
   "outputs": [],
   "source": []
  }
 ],
 "metadata": {
  "kernelspec": {
   "display_name": "Python 3 (ipykernel)",
   "language": "python",
   "name": "python3"
  },
  "language_info": {
   "codemirror_mode": {
    "name": "ipython",
    "version": 3
   },
   "file_extension": ".py",
   "mimetype": "text/x-python",
   "name": "python",
   "nbconvert_exporter": "python",
   "pygments_lexer": "ipython3",
   "version": "3.11.7"
  }
 },
 "nbformat": 4,
 "nbformat_minor": 5
}
